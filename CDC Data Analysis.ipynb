{
 "cells": [
  {
   "cell_type": "code",
   "execution_count": 1,
   "id": "5e64b2df",
   "metadata": {},
   "outputs": [
    {
     "name": "stdout",
     "output_type": "stream",
     "text": [
      "Requirement already satisfied: pandas in d:\\anaconda\\lib\\site-packages (1.5.3)\n",
      "Requirement already satisfied: python-dateutil>=2.8.1 in d:\\anaconda\\lib\\site-packages (from pandas) (2.8.2)\n",
      "Requirement already satisfied: pytz>=2020.1 in d:\\anaconda\\lib\\site-packages (from pandas) (2022.7)\n",
      "Requirement already satisfied: numpy>=1.21.0 in d:\\anaconda\\lib\\site-packages (from pandas) (1.24.3)\n",
      "Requirement already satisfied: six>=1.5 in d:\\anaconda\\lib\\site-packages (from python-dateutil>=2.8.1->pandas) (1.16.0)\n"
     ]
    }
   ],
   "source": [
    "!pip install pandas"
   ]
  },
  {
   "cell_type": "code",
   "execution_count": null,
   "id": "fed4937c",
   "metadata": {},
   "outputs": [],
   "source": [
    "import numpy as np"
   ]
  },
  {
   "cell_type": "code",
   "execution_count": null,
   "id": "9633526a",
   "metadata": {},
   "outputs": [],
   "source": [
    "selected_column_diabetes = df['% DIABETIC'] \n",
    "\n",
    "selected_column_diabetes = pd.to_numeric(selected_column_diabetes, errors='coerce')\n",
    "\n",
    "selected_column_obesity = df1['% OBESE']\n",
    "\n",
    "selected_column_obesity = pd.to_numeric(selected_column_obesity, errors='coerce')\n",
    "\n",
    "selected_column_inactivity = df2['% INACTIVE']\n",
    "\n",
    "selected_column_inactivity = pd.to_numeric(selected_column_inactivity, errors='coerce')"
   ]
  },
  {
   "cell_type": "code",
   "execution_count": null,
   "id": "baf62606",
   "metadata": {},
   "outputs": [],
   "source": [
    "from scipy import stats\n",
    "\n",
    "mean_diabetes = np.mean(selected_column_diabetes)\n",
    "mean_obesity = np.mean(selected_column_obesity)\n",
    "mean_inactivity = np.mean(selected_column_inactivity)\n",
    "\n",
    "median_diabetes = np.nanmedian(selected_column_diabetes)\n",
    "median_obesity = np.nanmedian(selected_column_obesity)\n",
    "median_inactivity = np.nanmedian(selected_column_inactivity)\n",
    "\n",
    "skewness_diabetes = stats.skew(selected_column_diabetes, nan_policy='omit')\n",
    "skewness_obesity = stats.skew(selected_column_obesity, nan_policy='omit')\n",
    "skewness_inactivity = stats.skew(selected_column_inactivity, nan_policy='omit')\n",
    "\n",
    "# Print the results\n",
    "print(\"Mean of % Diabetes:\", mean_diabetes)\n",
    "print(\"Median of % Diabetes:\", median_diabetes)\n",
    "print(\"Skewness of % Diabetes:\", skewness_diabetes)\n",
    "\n",
    "print(\"Mean of % Obesity:\", mean_obesity)\n",
    "print(\"Median of % Obesity:\", median_obesity)\n",
    "print(\"Skewness of % Obesity:\", skewness_obesity)\n",
    "\n",
    "print(\"Mean of % Inactivity:\", mean_inactivity)\n",
    "print(\"Median of % Inactivity:\", median_inactivity)\n",
    "print(\"Skewness of % Inactivity:\", skewness_inactivity)\n"
   ]
  },
  {
   "cell_type": "code",
   "execution_count": null,
   "id": "9fc890c5",
   "metadata": {},
   "outputs": [],
   "source": [
    "# Calculating Standard Deviation of Diabetes,Obesity & Inactivity"
   ]
  },
  {
   "cell_type": "code",
   "execution_count": null,
   "id": "c01da746",
   "metadata": {},
   "outputs": [],
   "source": [
    "std_diabetes = np.std(selected_column_diabetes)\n",
    "std_obesity = np.std(selected_column_obesity)\n",
    "std_inactivity = np.std(selected_column_inactivity)\n",
    "\n",
    "print(\"Std of % Diabetes : \",std_diabetes)\n",
    "print(\"Std of % Obesity : \",std_obesity)\n",
    "print(\"Std of % Inactivity : \",std_inactivity)"
   ]
  },
  {
   "cell_type": "code",
   "execution_count": null,
   "id": "ae1e2930",
   "metadata": {},
   "outputs": [],
   "source": [
    "# Calculating kurtosis of Diabetes,Obesity & Inactivity"
   ]
  },
  {
   "cell_type": "code",
   "execution_count": null,
   "id": "ece9e745",
   "metadata": {},
   "outputs": [],
   "source": [
    "from scipy.stats import kurtosis"
   ]
  },
  {
   "cell_type": "code",
   "execution_count": null,
   "id": "9910cb88",
   "metadata": {},
   "outputs": [],
   "source": [
    "def calculate_kurtosis(column):\n",
    "    # Filter out NaN values from the column\n",
    "    valid_data = column[~np.isnan(column)]\n",
    "    \n",
    "    try:\n",
    "        kurtosis_value = kurtosis(valid_data)\n",
    "        return kurtosis_value\n",
    "    except Exception as e:\n",
    "        return str(e)\n",
    "\n",
    "Kurtosis_diabetes = calculate_kurtosis(selected_column_diabetes)\n",
    "Kurtosis_obesity = calculate_kurtosis(selected_column_obesity)\n",
    "Kurtosis_inactivity = calculate_kurtosis(selected_column_inactivity)\n",
    "\n",
    "print(\"Kurtosis of % Diabetes:\", Kurtosis_diabetes)\n",
    "print(\"Kurtosis of % Obesity:\", Kurtosis_obesity)\n",
    "print(\"Kurtosis of % Inactivity:\", Kurtosis_inactivity)"
   ]
  },
  {
   "cell_type": "code",
   "execution_count": null,
   "id": "c4653f54",
   "metadata": {},
   "outputs": [],
   "source": [
    "# Creating a new excel sheet "
   ]
  },
  {
   "cell_type": "code",
   "execution_count": null,
   "id": "125f27c2",
   "metadata": {},
   "outputs": [],
   "source": [
    "Diabetes = pd.read_excel(file_path,  sheet_name='Diabetes')\n",
    "Obesity = pd.read_excel(file_path, sheet_name='Obesity')\n",
    "Inactivity = pd.read_excel(file_path, sheet_name='Inactivity')"
   ]
  },
  {
   "cell_type": "code",
   "execution_count": null,
   "id": "6fef2aa3",
   "metadata": {},
   "outputs": [],
   "source": [
    "add_diabetes_obesity_data = pd.merge(Diabetes, Obesity, on='FIPS', how='inner' )\n",
    "\n",
    "final_file = pd.merge(add_diabetes_obesity_data, Inactivity, on = 'FIPS', how = 'inner')\n",
    "\n",
    "final_file.to_excel('final_merged.xlsx', index=False)"
   ]
  },
  {
   "cell_type": "code",
   "execution_count": null,
   "id": "b65d2c84",
   "metadata": {},
   "outputs": [],
   "source": [
    "# Above code helped me form a new excel which has 356 data points in it."
   ]
  },
  {
   "cell_type": "code",
   "execution_count": null,
   "id": "828a15a5",
   "metadata": {},
   "outputs": [],
   "source": [
    "# My next step is to delete the repeated columns in the new file : 'final_merged.xlsx' "
   ]
  },
  {
   "cell_type": "code",
   "execution_count": null,
   "id": "5895819f",
   "metadata": {},
   "outputs": [],
   "source": [
    "df = pd.read_excel('D:\\\\Juice Wrld\\\\University\\\\Subjects\\\\Fall 2023\\\\MTH 522 - Mathematical Statistics\\\\final_merged.xlsx')"
   ]
  },
  {
   "cell_type": "code",
   "execution_count": null,
   "id": "4c57a390",
   "metadata": {},
   "outputs": [],
   "source": [
    "columns_to_delete = ['YEAR_y','COUNTY_y','STATE_x','YEAR','COUNTY','STATE_y']"
   ]
  },
  {
   "cell_type": "code",
   "execution_count": null,
   "id": "864b8368",
   "metadata": {},
   "outputs": [],
   "source": [
    "df = df.drop(columns=columns_to_delete)\n",
    "df.to_excel('modified_file.xlsx',index=False )"
   ]
  },
  {
   "cell_type": "code",
   "execution_count": null,
   "id": "a77859fa",
   "metadata": {},
   "outputs": [],
   "source": [
    "# Renaming the columns and increasing columns width size "
   ]
  },
  {
   "cell_type": "code",
   "execution_count": null,
   "id": "6de714c5",
   "metadata": {},
   "outputs": [],
   "source": [
    "state_column = df['State']"
   ]
  },
  {
   "cell_type": "code",
   "execution_count": null,
   "id": "8b98c176",
   "metadata": {},
   "outputs": [],
   "source": [
    "state_counts = state_column.value_counts()"
   ]
  },
  {
   "cell_type": "code",
   "execution_count": null,
   "id": "9a5dc5d8",
   "metadata": {},
   "outputs": [],
   "source": [
    "state_counts_df = pd.DataFrame({'State': state_counts.index, 'Count': state_counts.values})"
   ]
  },
  {
   "cell_type": "code",
   "execution_count": null,
   "id": "5cf99dd9",
   "metadata": {},
   "outputs": [],
   "source": [
    "state_counts_df.to_excel('state_count.xlsx', index=False)"
   ]
  },
  {
   "cell_type": "code",
   "execution_count": null,
   "id": "06045fcb",
   "metadata": {},
   "outputs": [],
   "source": [
    "pip install openpyxl==3.0.10"
   ]
  },
  {
   "cell_type": "code",
   "execution_count": null,
   "id": "7ec0a25c",
   "metadata": {},
   "outputs": [],
   "source": [
    "# linear regression model analysis \n",
    "\n",
    "# Model A : Independent variables : Diabetes & Obesity , Dependent variable : Inactivity\n",
    "# Model B : Independent variables : Obesity & Inactivity , Dependent variable : Diabetes\n",
    "# Model C : Independent variables : Inactivity & Diabetes , Dependent variable : Obesity"
   ]
  },
  {
   "cell_type": "code",
   "execution_count": null,
   "id": "c43ae073",
   "metadata": {},
   "outputs": [],
   "source": [
    "# Model A : Independent variables : Diabetes & Obesity , Dependent variable : Inactivity"
   ]
  },
  {
   "cell_type": "code",
   "execution_count": null,
   "id": "9d665eac",
   "metadata": {},
   "outputs": [],
   "source": [
    "pip install statsmodels"
   ]
  },
  {
   "cell_type": "code",
   "execution_count": null,
   "id": "6cc8bf8e",
   "metadata": {
    "scrolled": true
   },
   "outputs": [],
   "source": [
    "import pandas as pd\n",
    "import numpy as np\n",
    "import matplotlib.pyplot as plt\n",
    "from sklearn.linear_model import LinearRegression\n",
    "from sklearn.model_selection import cross_val_score\n",
    "from statsmodels.api import add_constant, OLS\n",
    "from statsmodels.stats.outliers_influence import variance_inflation_factor\n",
    "\n",
    "# Load the data from an Excel file (replace 'your_file.xlsx' with your actual file name)\n",
    "file_path = 'D:\\\\Juice Wrld\\\\University\\\\Subjects\\\\Fall 2023\\\\MTH 522 - Mathematical Statistics\\\\your_modified_file.xlsx'\n",
    "df = pd.read_excel(file_path)\n",
    "\n",
    "# Remove rows with missing values in the dependent variable (% Inactivity)\n",
    "df_cleaned = df.dropna(subset=['% Inactivity'])\n",
    "\n",
    "# Define the independent variables (% Diabetes and % Obesity) and the dependent variable (% Inactivity) from the cleaned DataFrame\n",
    "X = df_cleaned[['% Diabetes', '% Obesity']]\n",
    "y = df_cleaned['% Inactivity']\n",
    "\n",
    "# Calculate VIF for each independent variable\n",
    "X_with_const = add_constant(X)\n",
    "vif = pd.DataFrame()\n",
    "vif[\"Variable\"] = X_with_const.columns\n",
    "vif[\"VIF\"] = [variance_inflation_factor(X_with_const.values, i) for i in range(X_with_const.shape[1])]\n",
    "print(\"VIF values:\")\n",
    "print(vif)\n",
    "\n",
    "# Create a linear regression model using scikit-learn\n",
    "model = LinearRegression()\n",
    "\n",
    "# Perform K-fold cross-validation\n",
    "k = 5  # You can adjust the number of folds (e.g., 5-fold cross-validation)\n",
    "cv_scores = cross_val_score(model, X, y, cv=k, scoring='r2')\n",
    "\n",
    "# Print the R-squared values for each fold\n",
    "print(\"R-squared values for each fold:\", cv_scores)\n",
    "print(\"Mean R-squared:\", np.mean(cv_scores))\n",
    "\n",
    "# Fit the model to the entire dataset\n",
    "model.fit(X, y)\n",
    "\n",
    "# Print the intercept and coefficien\n",
    "print(\"Intercept:\", model.intercept_)\n",
    "print(\"Coefficients:\", model.coef_)\n",
    "\n",
    "# Make predictions using the model\n",
    "y_pred = model.predict(X)\n",
    "\n",
    "# Plot the actual vs. predicted values\n",
    "plt.scatter(y, y_pred)\n",
    "plt.xlabel(\"Actual % Inactivity Y\")\n",
    "plt.ylabel(\"Predicted % Inactivity\")\n",
    "plt.title(\"Actual % Inactivity vs. Predicted % Inactivity\")\n",
    "\n",
    "# Calculate the regression line\n",
    "regression_line = model.predict(X)\n",
    "\n",
    "# Add the regression line to the plot\n",
    "plt.plot(y_pred, regression_line, color='red', linestyle='--', label='Regression Line')\n",
    "\n",
    "# Display the legend\n",
    "plt.legend()\n",
    "\n",
    "# Add a constant term to the independent variables for statsmodels\n",
    "X = add_constant(X)\n",
    "\n",
    "# Fit the linear regression model using statsmodels\n",
    "model = OLS(y, X).fit\n",
    "\n",
    "# Get the confidence intervals for coefficients\n",
    "confidence_intervals = model.conf_int()\n",
    "p_values = model.summary()\n",
    "\n",
    "# Print the confidence intervals for each coefficient\n",
    "print(\"Confidence Intervals for coefficients:\")\n",
    "print(confidence_intervals)\n",
    "print(p_values)\n",
    "\n",
    "plt.show()\n"
   ]
  },
  {
   "cell_type": "code",
   "execution_count": null,
   "id": "e0da7433",
   "metadata": {},
   "outputs": [],
   "source": [
    "# Model B : Independent variables : Obesity & Inactivity , Dependent variable : Diabetes"
   ]
  },
  {
   "cell_type": "code",
   "execution_count": 12,
   "id": "650faa8a",
   "metadata": {},
   "outputs": [
    {
     "name": "stdout",
     "output_type": "stream",
     "text": [
      "VIF values:\n",
      "       Variable         VIF\n",
      "0         const  318.054491\n",
      "1  % Inactivity    1.287670\n",
      "2     % Obesity    1.287670\n",
      "R-squared values for each fold: [ 0.46174692  0.02028448 -0.05981153 -0.05914246  0.41097258]\n",
      "Mean R-squared: 0.1548099964274585\n",
      "Intercept: 1.6535991518559428\n",
      "Coefficients: [0.23246992 0.11106297]\n",
      "Confidence Intervals for coefficients:\n",
      "                     0         1\n",
      "const         0.547856  2.759343\n",
      "% Inactivity  0.186854  0.278086\n",
      "% Obesity     0.042624  0.179501\n",
      "                            OLS Regression Results                            \n",
      "==============================================================================\n",
      "Dep. Variable:             % Diabetes   R-squared:                       0.341\n",
      "Model:                            OLS   Adj. R-squared:                  0.337\n",
      "Method:                 Least Squares   F-statistic:                     90.71\n",
      "Date:                Tue, 03 Oct 2023   Prob (F-statistic):           1.76e-32\n",
      "Time:                        10:28:50   Log-Likelihood:                -315.89\n",
      "No. Observations:                 354   AIC:                             637.8\n",
      "Df Residuals:                     351   BIC:                             649.4\n",
      "Df Model:                           2                                         \n",
      "Covariance Type:            nonrobust                                         \n",
      "================================================================================\n",
      "                   coef    std err          t      P>|t|      [0.025      0.975]\n",
      "--------------------------------------------------------------------------------\n",
      "const            1.6536      0.562      2.941      0.003       0.548       2.759\n",
      "% Inactivity     0.2325      0.023     10.023      0.000       0.187       0.278\n",
      "% Obesity        0.1111      0.035      3.192      0.002       0.043       0.180\n",
      "==============================================================================\n",
      "Omnibus:                       17.281   Durbin-Watson:                   1.673\n",
      "Prob(Omnibus):                  0.000   Jarque-Bera (JB):               45.622\n",
      "Skew:                          -0.042   Prob(JB):                     1.24e-10\n",
      "Kurtosis:                       4.757   Cond. No.                         421.\n",
      "==============================================================================\n",
      "\n",
      "Notes:\n",
      "[1] Standard Errors assume that the covariance matrix of the errors is correctly specified.\n"
     ]
    },
    {
     "data": {
      "image/png": "[encoded data removed]",
      "text/plain": [
       "<Figure size 640x480 with 1 Axes>"
      ]
     },
     "metadata": {},
     "output_type": "display_data"
    }
   ],
   "source": [
    "import pandas as pd\n",
    "import numpy as np\n",
    "import matplotlib.pyplot as plt\n",
    "from sklearn.linear_model import LinearRegression\n",
    "from sklearn.model_selection import cross_val_score\n",
    "from statsmodels.api import add_constant, OLS\n",
    "from statsmodels.stats.outliers_influence import variance_inflation_factor\n",
    "df_cleaned = df.dropna(subset=['% Inactivity'])\n",
    "[['% Inactivity', '% Obesity']]\n",
    "y = df_cleaned['% Diabetes']\n",
    "X_with_const = add_constant(X)\n",
    "vif = pd.DataFrame()\n",
    "vif[\"Variable\"] = X_with_const.columns\n",
    "vif[\"VIF\"] = [variance_inflation_factor(X_with_const.values, i) for i in range(X_with_const.shape[1])]\n",
    "print(\"VIF values:\")\n",
    "print(vif)\n",
    "model = LinearRegression()\n",
    "k = 5  # You can adjust the number of folds (e.g., 5-fold cross-validation)\n",
    "cv_scores = cross_val_score(model, X, y, cv=k, scoring='r2')\n",
    "print(\"R-squared values for each fold:\", cv_scores)\n",
    "print(\"Mean R-squared:\", np.mean(cv_scores))\n",
    "model.fit(X, y)\n",
    "print(\"Intercept:\", model.intercept_)\n",
    "print(\"Coefficients:\", model.coef_)\n",
    "y_pred = model.predict(X)\n",
    "plt.scatter(y, y_pred)\n",
    "plt.xlabel(\"Actual % Diabetes Y\")\n",
    "plt.ylabel(\"Predicted % Diabetes\")\n",
    "plt.title(\"Actual % Diabetes vs. Predicted % Diabetes\")\n",
    "regression_line = model.predict(X)\n",
    "plt.plot(y_pred, regression_line, color='red', linestyle='--', label='Regression Line')\n",
    "plt.legend()\n",
    "X = add_constant(X)\n",
    "model = OLS(y, X).fit()\n",
    "confidence_intervals = model.conf_int()\n",
    "p_values = model.summary()\n",
    "print(\"Confidence Intervals for coefficients:\")\n",
    "print(confidence_intervals)\n",
    "print(p_values)\n",
    "plt.show()"
   ]
  },
  {
   "cell_type": "code",
   "execution_count": null,
   "id": "7bd277ba",
   "metadata": {},
   "outputs": [],
   "source": [
    "# Model C : Independent variables : Inactivity & Diabetes , Dependent variable : Obesity"
   ]
  },
  {
   "cell_type": "code",
   "execution_count": 11,
   "id": "05583ec8",
   "metadata": {
    "scrolled": false
   },
   "outputs": [
    {
     "name": "stdout",
     "output_type": "stream",
     "text": [
      "VIF values:\n",
      "       Variable         VIF\n",
      "0         const  120.667023\n",
      "1  % Inactivity    1.474071\n",
      "2    % Diabetes    1.474071\n",
      "R-squared values for each fold: [ 0.2519533  -0.1294807   0.07745399  0.01265881  0.25160269]\n",
      "Mean R-squared: 0.09283761590837916\n",
      "Intercept: 12.794020997778297\n",
      "Coefficients: [0.24712076 0.25394098]\n",
      "Confidence Intervals for coefficients:\n",
      "                      0          1\n",
      "const         11.764158  13.823884\n",
      "% Inactivity   0.173320   0.320921\n",
      "% Diabetes     0.097459   0.410423\n",
      "                            OLS Regression Results                            \n",
      "==============================================================================\n",
      "Dep. Variable:              % Obesity   R-squared:                       0.245\n",
      "Model:                            OLS   Adj. R-squared:                  0.241\n",
      "Method:                 Least Squares   F-statistic:                     57.04\n",
      "Date:                Tue, 03 Oct 2023   Prob (F-statistic):           3.54e-22\n",
      "Time:                        10:15:53   Log-Likelihood:                -462.27\n",
      "No. Observations:                 354   AIC:                             930.5\n",
      "Df Residuals:                     351   BIC:                             942.2\n",
      "Df Model:                           2                                         \n",
      "Covariance Type:            nonrobust                                         \n",
      "================================================================================\n",
      "                   coef    std err          t      P>|t|      [0.025      0.975]\n",
      "--------------------------------------------------------------------------------\n",
      "const           12.7940      0.524     24.433      0.000      11.764      13.824\n",
      "% Inactivity     0.2471      0.038      6.586      0.000       0.173       0.321\n",
      "% Diabetes       0.2539      0.080      3.192      0.002       0.097       0.410\n",
      "==============================================================================\n",
      "Omnibus:                      144.747   Durbin-Watson:                   1.956\n",
      "Prob(Omnibus):                  0.000   Jarque-Bera (JB):              837.488\n",
      "Skew:                          -1.618   Prob(JB):                    1.39e-182\n",
      "Kurtosis:                       9.805   Cond. No.                         182.\n",
      "==============================================================================\n",
      "\n",
      "Notes:\n",
      "[1] Standard Errors assume that the covariance matrix of the errors is correctly specified.\n"
     ]
    },
    {
     "data": {
      "image/png": "[encoded data removed]",
      "text/plain": [
       "<Figure size 640x480 with 1 Axes>"
      ]
     },
     "metadata": {},
     "output_type": "display_data"
    }
   ],
   "source": [
    "import pandas as pd\n",
    "import numpy as np\n",
    "import matplotlib.pyplot as plt\n",
    "from sklearn.linear_model import LinearRegression\n",
    "from sklearn.model_selection import cross_val_score\n",
    "from statsmodels.api import add_constant, OLS\n",
    "from statsmodels.stats.outliers_influence import variance_inflation_factor\n",
    "\n",
    "# Load the data from an Excel file (replace 'your_file.xlsx' with your actual file name)\n",
    "file_path = 'D:\\\\Juice Wrld\\\\University\\\\Subjects\\\\Fall 2023 - MTH 522 - Mathematical Statistics\\\\your_modified_file.xlsx'\n",
    "df = pd.read_excel(file_path)\n",
    "\n",
    "# Remove rows with missing values in the dependent variable (% Inactivity)\n",
    "df_cleaned = df.dropna(subset=['% Inactivity'])\n",
    "\n",
    "# Define the independent variables (% Diabetes and % Obesity) and the dependent variable (% Inactivity) from the cleaned DataFrame\n",
    "X = df_cleaned[['% Inactivity', '% Diabetes']]\n",
    "y = df_cleaned['% Obesity']\n",
    "\n",
    "# Calculate VIF for each independent variable\n",
    "X_with_const = add_constant(X)\n",
    "vif = pd.DataFrame()\n",
    "vif[\"Variable\"] = X_with_const.columns\n",
    "vif[\"VIF\"] = [variance_inflation_factor(X_with_const.values, i) for i in range(X_with_const.shape[1])]\n",
    "print(\"VIF values:\")\n",
    "print(vif)\n",
    "\n",
    "# Create a linear regression model using scikit-learn\n",
    "model = LinearRegression()\n",
    "\n",
    "# Perform K-fold cross-validation\n",
    "k = 5  # You can adjust the number of folds (e.g., 5-fold cross-validation)\n",
    "cv_scores = cross_val_score(model, X, y, cv=k, scoring='r2')\n",
    "\n",
    "# Print the R-squared values for each fold\n",
    "print(\"R-squared values for each fold:\", cv_scores)\n",
    "print(\"Mean R-squared:\", np.mean(cv_scores))\n",
    "\n",
    "# Fit the model to the entire dataset\n",
    "model.fit(X, y)\n",
    "\n",
    "# Print the intercept and coefficients\n",
    "print(\"Intercept:\", model.intercept_)\n",
    "print(\"Coefficients:\", model.coef_)\n",
    "\n",
    "# Make predictions using the model\n",
    "y_pred = model.predict(X)\n",
    "\n",
    "# Plot the actual vs. predicted values\n",
    "plt.scatter(y, y_pred)\n",
    "plt.xlabel(\"Actual % Obesity Y\")\n",
    "plt.ylabel(\"Predicted % Obesity\")\n",
    "plt.title(\"Actual % Obesity vs. Predicted % Obesity\")\n",
    "\n",
    "# Calculate the regression line\n",
    "regression_line = model.predict(X)\n",
    "\n",
    "# Add the regression line to the plot\n",
    "plt.plot(y_pred, regression_line, color='red', linestyle='--', label='Regression Line')\n",
    "\n",
    "# Display the legend\n",
    "plt.legend()\n",
    "\n",
    "# Add a constant term to the independent variables for statsmodels\n",
    "X = add_constant(X)\n",
    "\n",
    "# Fit the linear regression model using statsmodels\n",
    "model = OLS(y, X).fit()\n",
    "\n",
    "# Get the confidence intervals for coefficients\n",
    "confidence_intervals = model.conf_int()\n",
    "p_values = model.summary()\n",
    "\n",
    "# Print the confidence intervals for each coefficient\n",
    "print(\"Confidence Intervals for coefficients:\")\n",
    "print(confidence_intervals)\n",
    "print(p_values)\n",
    "\n",
    "plt.show()\n"
   ]
  },
  {
   "cell_type": "markdown",
   "id": "fe5db2b9",
   "metadata": {},
   "source": [
    "# Final Analysis of Linear Regression Model Let's compare the three models (A, B, and C) based on various statistics and provide a detailed analysis:\n",
    "\n",
    "Model A:\n",
    "\n",
    "VIF values:\n",
    "const: 325.88\n",
    "% Diabetes: 1.18\n",
    "% Obesity: 1.18\n",
    "Mean R-squared: 0.125\n",
    "Intercept: -0.158\n",
    "Coefficients for % Diabetes and % Obesity: 0.957 and 0.445, respectively\n",
    "Confidence Intervals for coefficients (95%):\n",
    "% Diabetes: [0.769, 1.145]\n",
    "% Obesity: [0.312, 0.578]\n",
    "F-statistic: 115.2\n",
    "Prob (F-statistic): 3.51e-39\n",
    "Model B:\n",
    "\n",
    "VIF values:\n",
    "const: 318.05\n",
    "% Inactivity: 1.29\n",
    "% Obesity: 1.29\n",
    "Mean R-squared: 0.155\n",
    "Intercept: 1.654\n",
    "Coefficients for % Inactivity and % Obesity: 0.232 and 0.111, respectively\n",
    "Confidence Intervals for coefficients (95%):\n",
    "% Inactivity: [0.187, 0.278]\n",
    "% Obesity: [0.043, 0.180]\n",
    "F-statistic: 90.71\n",
    "Prob (F-statistic): 1.76e-32\n",
    "Model C:\n",
    "\n",
    "VIF values:\n",
    "const: 120.67\n",
    "% Inactivity: 1.47\n",
    "% Diabetes: 1.47\n",
    "Mean R-squared: 0.093\n",
    "Intercept: 12.794\n",
    "Coefficients for % Inactivity and % Diabetes: 0.247 and 0.254, respectively\n",
    "Confidence Intervals for coefficients (95%):\n",
    "% Inactivity: [0.173, 0.321]\n",
    "% Diabetes: [0.097, 0.410]\n",
    "F-statistic: 57.04\n",
    "Prob (F-statistic): 3.54e-22\n",
    "Analysis and Comparison:\n",
    "\n",
    "VIF Values:\n",
    "\n",
    "Model A has a very high VIF value for the constant (const), indicating potential multicollinearity with other variables in the model.\n",
    "Model B and Model C also have high VIF values for the constant but lower than in Model A. These models include different sets of independent variables.\n",
    "R-squared:\n",
    "\n",
    "Model B has the highest mean R-squared (0.155), indicating that it explains the most variation in the dependent variable (% Inactivity).\n",
    "Model A has the lowest mean R-squared (0.125).\n",
    "Model C falls in between with a mean R-squared of 0.093.\n",
    "Intercept and Coefficients:\n",
    "\n",
    "The intercept values differ significantly between models. For Model A, it's close to zero, while for Models B and C, it's considerably higher.\n",
    "The coefficients also vary between models, and their interpretations depend on the specific variables used in each model.\n",
    "Confidence Intervals:\n",
    "\n",
    "Confidence intervals for coefficients indicate whether they are statistically significant. In all models, some coefficients have confidence intervals that exclude zero, making them statistically significant predictors.\n",
    "F-statistic:\n",
    "\n",
    "Model A has the highest F-statistic (115.2), indicating strong overall model significance.\n",
    "Model B has a lower F-statistic (90.71), but it is still highly significant.\n",
    "Model C has the lowest F-statistic (57.04), which is also statistically significant but relatively lower than the other models.\n",
    "Multicollinearity:\n",
    "\n",
    "All three models exhibit multicollinearity to some extent, with high VIF values for the constant term in each case.\n",
    "Model B and Model C include % Inactivity as an independent variable, which may contribute to multicollinearity in these models.\n",
    "Relationships:\n",
    "\n",
    "Model B appears to perform the best in terms of R-squared and overall model significance.\n",
    "Model A has a particularly high VIF value for the constant, which indicates a potential issue with multicollinearity.\n",
    "Model C has a moderate R-squared and F-statistic but also includes % Inactivity as an independent variable"
   ]
  }
 ],
 "metadata": {
  "kernelspec": {
   "display_name": "Python 3 (ipykernel)",
   "language": "python",
   "name": "python3"
  },
  "language_info": {
   "codemirror_mode": {
    "name": "ipython",
    "version": 3
   },
   "file_extension": ".py",
   "mimetype": "text/x-python",
   "name": "python",
   "nbconvert_exporter": "python",
   "pygments_lexer": "ipython3",
   "version": "3.11.4"
  }
 },
 "nbformat": 4,
 "nbformat_minor": 5
}
